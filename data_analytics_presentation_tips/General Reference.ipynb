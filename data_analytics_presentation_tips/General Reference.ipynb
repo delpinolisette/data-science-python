{
 "cells": [
  {
   "cell_type": "markdown",
   "metadata": {},
   "source": [
    "# Part 1\n",
    "\n",
    "### Main Point: It is the responsiblity of individuals to become data-literate and be able to sieve stories out of data sets. \n",
    "\n",
    "### Tools for data analysis:\n",
    "1. [Open Data Philly](https://www.opendataphilly.org)\n",
    "2. [Pandas from PyData](https://pandas.pydata.org)\n",
    "3. codebooks for data sets - always have them handy\n",
    "\n",
    "### Example of a Table in Markdown (useful for later data representations form CSVs):\n",
    "\n",
    "<table border=\"1\" class=\"dataframe\">  <thead>    <tr style=\"text-align: right;\">      <th>day_of_week</th>      <th>county_name</th>      <th>collision_type</th>      <th>dec_lat</th>      <th>dec_long</th>    </tr>  </thead>  <tbody>    <tr>      <td>3</td>      <td>Philadelphia</td>      <td>1</td>      <td>40.0446</td>      <td>-75.0547</td>    </tr>    <tr>      <td>5</td>      <td>Philadelphia</td>      <td>4</td>      <td>39.9693</td>      <td>-75.1432</td>    </tr>    <tr>      <td>7</td>      <td>Philadelphia</td>      <td>4</td>      <td>40.0490</td>      <td>-75.0707</td>    </tr>    <tr>      <td>6</td>      <td>Philadelphia</td>      <td>6</td>      <td>39.9034</td>      <td>-75.1504</td>    </tr>    <tr>      <td>4</td>      <td>Philadelphia</td>      <td>1</td>      <td>40.0512</td>      <td>-74.9892</td>    </tr>    <tr>      <td>6</td>      <td>Philadelphia</td>      <td>8</td>      <td>39.9352</td>      <td>-75.1542</td>    </tr>    <tr>      <td>4</td>      <td>Philadelphia</td>      <td>4</td>      <td>40.0811</td>      <td>-75.0391</td>    </tr>  </tbody></table>\n",
    "\n",
    "### Pandas Commands for CSV's:\n",
    "1. `pd.read_csv()` reads from a CSV and turns it into a `data frame` structure.\n",
    "2. `data frane` has rows, columns, and indices for access. \n",
    "3. `crash_data = pd.read_csv('data/crash_data_collision_crash_2007_2017.csv')`\n",
    "4. pandas `data frame` is an object with: \n",
    "    - attributes\n",
    "        - `.shape` is dimensions of object. row then col. \n",
    "        - `.columns` tells us names of all columns\n",
    "            - `.sort_values()` available for this pandas index \n",
    "    - functions\n",
    "        - `.head()` displays first n rows of frame (n=5 default)\n",
    "        - `.tail()` displays last n rows of frame (n=5 default)\n",
    "        - `.sample(n)` selects random sampling of n rows of data\n",
    "4. good practice to put headings into a code book csv and load it in. \n",
    "    - our is `code_book`\n"
   ]
  },
  {
   "cell_type": "code",
   "execution_count": 22,
   "metadata": {
    "ExecuteTime": {
     "end_time": "2020-09-13T21:22:56.032159Z",
     "start_time": "2020-09-13T21:22:55.477853Z"
    }
   },
   "outputs": [
    {
     "name": "stdout",
     "output_type": "stream",
     "text": [
      "(77462, 90)\n"
     ]
    },
    {
     "data": {
      "text/plain": [
       "Column_Name                                  CRN\n",
       "Short_Description            Crash Record Number\n",
       "Type                                      NUMBER\n",
       "Length                                         2\n",
       "Constraints          *Key to data base records *\n",
       "Name: 14, dtype: object"
      ]
     },
     "execution_count": 22,
     "metadata": {},
     "output_type": "execute_result"
    }
   ],
   "source": [
    "%matplotlib inline\n",
    "\n",
    "import pandas as pd\n",
    "import matplotlib.pyplot as plt\n",
    "\n",
    "crash_data = pd.read_csv('data/crash_data_collision_crash_2007_2017.csv')\n",
    "\n",
    "type(crash_data) # verify it's a data frame\n",
    "\n",
    "print(crash_data.shape) # dimensions\n",
    "\n",
    "crash_data.head(10) # here n = 5\n",
    "\n",
    "crash_data.tail() # last 5 rows\n",
    "\n",
    "crash_data.sample(2) # ransom sample of 2 rows\n",
    "\n",
    "crash_data.columns # use names for indexing. \n",
    "crash_data.columns.sort_values()\n",
    "\n",
    "# code book for data\n",
    "code_book = pd.read_csv('data/data_codebook.csv')\n",
    "code_book # ok but who makes the code book lmao\n",
    "code_book.head(15) # first 15 rows, 0-14\n",
    "code_book.iloc[14] # 15th row, 14th index info\n"
   ]
  },
  {
   "cell_type": "markdown",
   "metadata": {},
   "source": [
    "### Understanding the Data using Pandas:\n",
    "\n",
    "Use *INDEXING* to drive your understanding of the data:\n",
    "\n",
    "1. akwasy check raw data values yourself\n",
    "2. you can group by sunsets with :\n",
    "    - .groupby(FIELD) function will split a single DataFrame into a number of different ones based on the values of the grouping field or fields.\n",
    " "
   ]
  },
  {
   "cell_type": "code",
   "execution_count": 55,
   "metadata": {
    "ExecuteTime": {
     "end_time": "2020-09-13T21:46:50.575137Z",
     "start_time": "2020-09-13T21:46:48.066999Z"
    }
   },
   "outputs": [
    {
     "name": "stdout",
     "output_type": "stream",
     "text": [
      "2011 (9941, 90)\n",
      "2012 (11281, 90)\n",
      "2013 (11072, 90)\n",
      "2014 (10565, 90)\n",
      "2015 (11453, 90)\n",
      "2016 (12137, 90)\n",
      "2017 (11013, 90)\n"
     ]
    },
    {
     "data": {
      "text/plain": [
       "<matplotlib.axes._subplots.AxesSubplot at 0x222ab3436d0>"
      ]
     },
     "execution_count": 55,
     "metadata": {},
     "output_type": "execute_result"
    },
    {
     "data": {
      "image/png": "[encoded data removed]",
      "text/plain": [
       "<Figure size 432x288 with 1 Axes>"
      ]
     },
     "metadata": {
      "needs_background": "light"
     },
     "output_type": "display_data"
    },
    {
     "data": {
      "image/png": "[encoded data removed]",
      "text/plain": [
       "<Figure size 1296x288 with 1 Axes>"
      ]
     },
     "metadata": {
      "needs_background": "light"
     },
     "output_type": "display_data"
    },
    {
     "data": {
      "image/png": "[encoded data removed]",
      "text/plain": [
       "<Figure size 1296x288 with 1 Axes>"
      ]
     },
     "metadata": {
      "needs_background": "light"
     },
     "output_type": "display_data"
    },
    {
     "data": {
      "image/png": "[encoded data removed]",
      "text/plain": [
       "<Figure size 1296x288 with 1 Axes>"
      ]
     },
     "metadata": {
      "needs_background": "light"
     },
     "output_type": "display_data"
    }
   ],
   "source": [
    "# index search by column name, gives index and then column value at the index\n",
    "crash_data['fatal_count']\n",
    "\n",
    "# visualize crash data with a built in plot\n",
    "# x values range from 0 to 77,641 and give fatal count\n",
    "# doesnt tell a full story\n",
    "crash_data['fatal_count'].plot()\n",
    "\n",
    "# it's easier to tabulate data with a value count function.\n",
    "# we now see most were = 0 and only 2 = 4 deaths in 10 years\n",
    "crash_data['fatal_count'].value_counts()\n",
    "\n",
    "#type(crash_data['fatal_count']) # so pandas series have value_counts\n",
    "\n",
    "crash_data['fatal_count'].describe() # when data is continuous\n",
    "\n",
    "crash_data['crash_year'].head() # column vlas treated as integer, thus\n",
    "crash_data['crash_year'].value_counts() # discrete analysis gives us good vlues\n",
    "crash_data['crash_year'].describe() # contunuous analysis gives us weird values\n",
    "# takeaway - always check data vlaues yourself!\n",
    "\n",
    "crash_data['crash_year'].astype('category').head(15) # treat years as categories\n",
    "crash_data['crash_year'].astype('category').describe() # now cont analysis makes a little more sense\n",
    "\n",
    "# group by subset crash year. \n",
    "# show shape of dataframe corresponding to each yearly subset\n",
    "for year, ydf in crash_data.groupby('crash_year'):\n",
    "    print(year, ydf.shape)\n",
    "\n",
    "\n",
    "# access crn = crash recorded number of crash_year, count it, and plot.   \n",
    "# shows realtively even number of crashes each year\n",
    "crash_data.groupby('crash_year')['crn'].count().plot(kind='bar')\n",
    "\n",
    "# group by more than one field..\n",
    "# and count\n",
    "crash_data.groupby(['crash_year','crash_month']).count()\n",
    "\n",
    "# in subset grouped by crash year and then by crash month\n",
    "# see how many bicylce involved accidents there were in that month, in that year\n",
    "crash_data.groupby(['crash_year','crash_month'])['bicycle_count'].sum()\n",
    "\n",
    "# to visualize the numbers descirbed abive, \n",
    "# seems like most bicylce involved crashes happen in the middle (summer) months!\n",
    "plt.figure(figsize=(18,4))\n",
    "crash_data.groupby(['crash_year','crash_month'])['bicycle_count'].sum().plot(kind='bar')\n",
    "\n",
    "# it also seems like when the weather is colder there is less bicycl crashes,\n",
    "# especially in the early morning cold\n",
    "# but it might be related to rush hour?\n",
    "plt.figure(figsize=(18,4))\n",
    "crash_data.groupby(['hour_of_day'])['bicycle_count'].sum().plot.bar()\n",
    "\n",
    "# death of cyclists in crashes by month\n",
    "plt.figure(figsize=(18,4))\n",
    "bike_crash = crash_data[crash_data['bicycle_count']>0]\n",
    "bike_crash.groupby(['crash_year','crash_month'])['fatal_count'].sum().plot(kind='bar', title='Deaths of cyclists involved in crashes by year and month')\n",
    "\n"
   ]
  },
  {
   "cell_type": "code",
   "execution_count": 67,
   "metadata": {
    "ExecuteTime": {
     "end_time": "2020-09-13T21:51:52.690930Z",
     "start_time": "2020-09-13T21:51:52.368589Z"
    }
   },
   "outputs": [
    {
     "data": {
      "text/plain": [
       "<matplotlib.axes._subplots.AxesSubplot at 0x222ab88bbe0>"
      ]
     },
     "execution_count": 67,
     "metadata": {},
     "output_type": "execute_result"
    },
    {
     "data": {
      "image/png": "[encoded data removed]",
      "text/plain": [
       "<Figure size 432x288 with 1 Axes>"
      ]
     },
     "metadata": {
      "needs_background": "light"
     },
     "output_type": "display_data"
    },
    {
     "data": {
      "image/png": "[encoded data removed]",
      "text/plain": [
       "<Figure size 432x288 with 1 Axes>"
      ]
     },
     "metadata": {
      "needs_background": "light"
     },
     "output_type": "display_data"
    }
   ],
   "source": [
    "# now lets get distribution of fatalities across all types of crashes\n",
    "crash_data['fatal_count'].value_counts()\n",
    "crash_data['fatal_count'].hist() # here table is clearer than plot\n",
    "\n",
    "# find all crahses where fatality = 2 exaclty\n",
    "crash_data[crash_data['fatal_count']==2]\n",
    "\n",
    "# lets look at the total bicycle deathcount\n",
    "crash_data['bicycle_death_count'].value_counts()\n",
    "\n",
    "#major injury counts for bikes\n",
    "crash_data['bicycle_maj_inj_count'].value_counts()\n",
    "\n",
    "# all crashes with bikes AND get the death count\n",
    "crash_data[crash_data['bicycle_count']>0]['bicycle_death_count'].value_counts()\n",
    "\n",
    "# all crashes with bikes AND get the major injury count\n",
    "crash_data[crash_data['bicycle_count']>0]['bicycle_maj_inj_count'].value_counts()\n",
    "\n",
    "# all crashes with bikes And group by crash year\n",
    "# inside crash year, find the bike death count and make a bar graph\n",
    "crash_data[(crash_data['bicycle_death_count']>0) ].groupby('crash_year')['bicycle_death_count'].sum().plot(kind='bar')\n",
    "\n",
    "# all totoal bike injuries stored in a variable\n",
    "bicycle_injuries = crash_data[(crash_data['bicycle_death_count']>0) | (crash_data['bicycle_maj_inj_count']>0)]\n",
    "# group bicycle injuries by crash year, sum up the death ct and major injury ct\n",
    "bicycle_injuries.groupby('crash_year')[['bicycle_death_count', 'bicycle_maj_inj_count']].sum().plot(stacked=True, kind='bar')\n"
   ]
  },
  {
   "cell_type": "code",
   "execution_count": 70,
   "metadata": {
    "ExecuteTime": {
     "end_time": "2020-09-13T21:53:57.736705Z",
     "start_time": "2020-09-13T21:53:57.554872Z"
    }
   },
   "outputs": [
    {
     "name": "stderr",
     "output_type": "stream",
     "text": [
      "<ipython-input-70-6277a56c190f>:5: FutureWarning: Indexing with multiple keys (implicitly converted to a tuple of keys) will be deprecated, use a list instead.\n",
      "  ped_accidents.groupby('crash_year')['ped_death_count', 'ped_maj_inj_count'].sum().plot(kind='bar', stacked=True)\n"
     ]
    },
    {
     "data": {
      "text/plain": [
       "<matplotlib.axes._subplots.AxesSubplot at 0x222ab793a60>"
      ]
     },
     "execution_count": 70,
     "metadata": {},
     "output_type": "execute_result"
    },
    {
     "data": {
      "image/png": "[encoded data removed]",
      "text/plain": [
       "<Figure size 432x288 with 1 Axes>"
      ]
     },
     "metadata": {
      "needs_background": "light"
     },
     "output_type": "display_data"
    }
   ],
   "source": [
    "# all pedestrian accidents\n",
    "ped_accidents = crash_data[crash_data['ped_count']>0]\n",
    "# group pedestrian accidents by crash year, death ct and major inj count in bar graph as above with bikes\n",
    "# seems more even than with bikes?\n",
    "ped_accidents.groupby('crash_year')['ped_death_count', 'ped_maj_inj_count'].sum().plot(kind='bar', stacked=True)\n",
    "\n"
   ]
  },
  {
   "cell_type": "markdown",
   "metadata": {},
   "source": [
    "### End:\n",
    "\n",
    "Here are various links talking about the dangers of being a cyclist in Philly:\n",
    "1. \n",
    "* https://www.phillytrib.com/news/local_news/philly-s-riskiest-deadliest-roads-in-black-and-brown-neighborhoods/article_1d03b88e-2edf-5cbd-9f42-dd5eddf8fedf.html\n",
    "\n",
    "* https://usa.streetsblog.org/2018/02/12/philadelphias-boulevard-of-death/\n",
    "\n",
    "* https://billypenn.com/2017/02/06/how-roosevelt-boulevard-became-the-most-dangerous-road-in-philadelphia/\n",
    "\n",
    "* KnowPA - infoviz example dashboards - http://www.knowpa.com/\n",
    "\n",
    "https://www.hg.org/legal-articles/5-of-the-most-dangerous-roads-in-the-u-s--32057\n",
    "\n",
    "> Pennsylvania roads are dangerous, and with its large concentration of population, Philadelphia has the greatest number of crash-related deaths. In fact, according to PennDOT data on fatal car accidents, Philadelphia had more than a quarter of the road segments that were among the state’s most deadly from 2015-2017. During this period, Philly had 24 road segments with 155 total fatal collisions, leading to 167 deaths. This amounted to about a third of the segments with at least four deaths in the entire state.\n",
    "\n",
    "https://www.wnwlaw.com/philly-four-pennsylvanias-ten-deadliest-roads/\n",
    "\n",
    "\n",
    "* Study by law firm\n",
    "\n",
    "https://www.dallashartman.com/blog/2019/01/deadly-roads-pa/"
   ]
  },
  {
   "cell_type": "markdown",
   "metadata": {},
   "source": [
    "# Part 2:\n"
   ]
  },
  {
   "cell_type": "markdown",
   "metadata": {},
   "source": [
    "### Built-In Python Methods:\n",
    "    - `print`\n",
    "    - `len`\n",
    "    - `type`\n",
    "    - `dir` : new to me! lists the features and methods of the object.\n",
    "    - `help`\n",
    " \n",
    "### Good Book\n",
    "- good book for class is \"Data Literacy Fundamentals\" and \"Avoiding Pitfalls with Data\"\n",
    "- it goes Data -> Information -> Knowledge -> Wisdom\n",
    "\n",
    "### Useful Commands:\n",
    "- String Commands:\n",
    "    - `.upper()` send to upper case\n",
    "    - `.lower()` send to lower case\n",
    "    - `title()` send to title case\n",
    "    - `.startswith('starts with this?')` T is string starts with string, F otherwise.\n",
    "    - `.endswith('str')` analogue to above with ends with\n",
    "    - `.isLower()` T if all string in lowercase, F otherwise\n",
    "    - `.strip` return copy of string with trailing and leading whitespace removed\n",
    "    - see `dir` for a ton more. \n",
    "    - use `help(name_of_str.fun_I_call())` to see exact specs of function. \n",
    "- very handy command to insert into print fun!\n",
    "    - `print(f'The largest value in the dataset is { max(y) }')`\n",
    "    - `print(f'The smallest value in the dataset is { min(y) }')`\n",
    "```python\n",
    "plt.plot(x,y, 'o') # points\n",
    "#plt.plot(x,y, '-') # line\n",
    "#plt.plot(x,y, '-o') # line with pts?\n",
    "plt.show()\n",
    "```\n"
   ]
  },
  {
   "cell_type": "code",
   "execution_count": 74,
   "metadata": {
    "ExecuteTime": {
     "end_time": "2020-09-13T22:19:13.495227Z",
     "start_time": "2020-09-13T22:19:13.489227Z"
    }
   },
   "outputs": [
    {
     "name": "stdout",
     "output_type": "stream",
     "text": [
      "Help on built-in function strip:\n",
      "\n",
      "strip(chars=None, /) method of builtins.str instance\n",
      "    Return a copy of the string with leading and trailing whitespace removed.\n",
      "    \n",
      "    If chars is given and not None, remove characters in chars instead.\n",
      "\n",
      "Help on built-in function translate:\n",
      "\n",
      "translate(table, /) method of builtins.str instance\n",
      "    Replace each character in the string using the given translation table.\n",
      "    \n",
      "      table\n",
      "        Translation table, which must be a mapping of Unicode ordinals to\n",
      "        Unicode ordinals, strings, or None.\n",
      "    \n",
      "    The table must implement lookup/indexing via __getitem__, for instance a\n",
      "    dictionary or list.  If this operation raises LookupError, the character is\n",
      "    left untouched.  Characters mapped to None are deleted.\n",
      "\n"
     ]
    }
   ],
   "source": [
    "n = \"hello\"\n",
    "help(n.strip)\n",
    "help(n.translate)\n"
   ]
  },
  {
   "cell_type": "markdown",
   "metadata": {},
   "source": [
    "Important integer functions:\n",
    "1. dir(int) to give you a ton of functions on int. \n",
    "2. looks like ints in python can be complex - has conjugate operation.\n",
    "3. Other funs:\n",
    "    - `bin(n)` converts to binary"
   ]
  },
  {
   "cell_type": "code",
   "execution_count": 81,
   "metadata": {
    "ExecuteTime": {
     "end_time": "2020-09-13T22:23:39.977123Z",
     "start_time": "2020-09-13T22:23:39.972122Z"
    }
   },
   "outputs": [
    {
     "name": "stdout",
     "output_type": "stream",
     "text": [
      "Help on built-in function bit_length:\n",
      "\n",
      "bit_length() method of builtins.int instance\n",
      "    Number of bits necessary to represent self in binary.\n",
      "    \n",
      "    >>> bin(37)\n",
      "    '0b100101'\n",
      "    >>> (37).bit_length()\n",
      "    6\n",
      "\n"
     ]
    }
   ],
   "source": [
    "# looks like complex functions built into int\n",
    "n = 4\n",
    "dir(int)\n",
    "\n",
    "help(n.bit_length)"
   ]
  },
  {
   "cell_type": "markdown",
   "metadata": {},
   "source": [
    "### Lists\n",
    "1. Noticed links are indexed BOTH by 0 to n-1 AND -(n-1) to 0\n",
    "2. for slicing, syntax is:\n",
    "    - `list_name[init_index:end_index]`\n",
    "3. when you have int list, theres these functions:\n",
    "    - sum(list)\n",
    "    - min(list)\n",
    "    - max(list)"
   ]
  },
  {
   "cell_type": "code",
   "execution_count": null,
   "metadata": {},
   "outputs": [],
   "source": []
  }
 ],
 "metadata": {
  "kernelspec": {
   "display_name": "Python 3",
   "language": "python",
   "name": "python3"
  },
  "language_info": {
   "codemirror_mode": {
    "name": "ipython",
    "version": 3
   },
   "file_extension": ".py",
   "mimetype": "text/x-python",
   "name": "python",
   "nbconvert_exporter": "python",
   "pygments_lexer": "ipython3",
   "version": "3.8.3"
  }
 },
 "nbformat": 4,
 "nbformat_minor": 4
}
